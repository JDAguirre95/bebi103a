{
 "cells": [
  {
   "cell_type": "markdown",
   "id": "b1c79f91-9342-422e-b9a7-29a82487035a",
   "metadata": {},
   "source": [
    "## 1.1 Your goals"
   ]
  },
  {
   "cell_type": "markdown",
   "id": "f6cf9887-5944-4d7a-945e-94c8bbbde26a",
   "metadata": {},
   "source": [
    "a- Write down your goals for the class\n",
    "\n",
    "* Get comfortable with python\n",
    "* Learn how to analyze basic data sets\n",
    "* Develop the critical thinking of a programmer\n",
    "\n",
    "b- In what context do you expect to use the skills you learn in this class in the future?\n",
    "\n",
    "I want to learn how to analyze the data obtained from my experiments. As an astrobiologist, many of my experiments include RNAseq data or metagenomic data in order to characterize the genome of an organism. Therefore, I would like to be able to analyze this data and to extract any relevant information from it.\n",
    "\n",
    "c-Are there specific techniques you would like to learn? Is there something that has been confusing for you that you would like cleared up?\n",
    "\n",
    "Nothing very specific. As a beginner in programming and coding, my only interest is to be introuced and to get comfortable to python."
   ]
  },
  {
   "cell_type": "code",
   "execution_count": null,
   "id": "92132439-f0f1-4514-bdfd-9bf410aef831",
   "metadata": {},
   "outputs": [],
   "source": []
  },
  {
   "cell_type": "code",
   "execution_count": null,
   "id": "e03d2c43-bef9-41c7-bd1a-cf2fc317068c",
   "metadata": {},
   "outputs": [],
   "source": []
  },
  {
   "cell_type": "markdown",
   "id": "b7944cd4-bca0-468c-bea8-701c88228e66",
   "metadata": {},
   "source": [
    "## 1.2 Reverse dictionary "
   ]
  },
  {
   "cell_type": "code",
   "execution_count": 3,
   "id": "a87c1145-be25-41f8-b114-89e4344ebfb3",
   "metadata": {},
   "outputs": [
    {
     "data": {
      "text/plain": [
       "2"
      ]
     },
     "execution_count": 3,
     "metadata": {},
     "output_type": "execute_result"
    }
   ],
   "source": [
    "# {key : value, key : value}\n",
    "list_values = {\"a\":1, \"b\":2, \"c\":4, \"d\":10, \"e\":50}\n",
    "\n",
    "list_values [\"b\"]"
   ]
  },
  {
   "cell_type": "code",
   "execution_count": 4,
   "id": "e2a245b0-e462-45e4-b36f-0bd75016928c",
   "metadata": {},
   "outputs": [
    {
     "name": "stdout",
     "output_type": "stream",
     "text": [
      "missing\n",
      "missing\n",
      "found it\n",
      "missing\n",
      "missing\n"
     ]
    }
   ],
   "source": [
    "for key, value in list_values.items():\n",
    "    if value == 4:\n",
    "        print (\"found it\")\n",
    "    else:\n",
    "        print (\"missing\")"
   ]
  },
  {
   "cell_type": "code",
   "execution_count": 5,
   "id": "96685fdf-8338-47a1-afbe-23b3c6c788c3",
   "metadata": {},
   "outputs": [],
   "source": [
    "missing_key = []\n",
    "\n",
    "\n",
    "def lookup (i):\n",
    "    for key, value in list_values.items():\n",
    "        if value == i:\n",
    "            print (key)\n",
    "        else:\n",
    "            continue\n",
    "           "
   ]
  },
  {
   "cell_type": "code",
   "execution_count": null,
   "id": "5033d40f-83b6-4ddb-8cdb-9bf025773bfd",
   "metadata": {},
   "outputs": [],
   "source": [
    "lookup (2)"
   ]
  },
  {
   "cell_type": "markdown",
   "id": "bd319f71-4069-4b41-80b0-26a977d528fe",
   "metadata": {},
   "source": [
    "## 1.3a Organize files"
   ]
  },
  {
   "cell_type": "code",
   "execution_count": null,
   "id": "e6cc831c-f87a-4db8-8cc6-996d2bb49b05",
   "metadata": {},
   "outputs": [],
   "source": [
    "import glob"
   ]
  },
  {
   "cell_type": "code",
   "execution_count": 3,
   "id": "d6e9c7a2-064b-4845-8797-854fca3c7966",
   "metadata": {},
   "outputs": [
    {
     "data": {
      "text/plain": [
       "['data/leica_tiffs/stage9_Series006_t00_z000_ch00.tif',\n",
       " 'data/leica_tiffs/stage9_Series006_t01_z000_ch00.tif',\n",
       " 'data/leica_tiffs/stage9_Series006_t02_z000_ch00.tif',\n",
       " 'data/leica_tiffs/stage9_Series006_t03_z000_ch00.tif',\n",
       " 'data/leica_tiffs/stage9_Series006_t04_z000_ch00.tif',\n",
       " 'data/leica_tiffs/stage9_Series006_t05_z000_ch00.tif',\n",
       " 'data/leica_tiffs/stage9_Series006_t06_z000_ch00.tif',\n",
       " 'data/leica_tiffs/stage9_Series006_t07_z000_ch00.tif',\n",
       " 'data/leica_tiffs/stage9_Series006_t08_z000_ch00.tif',\n",
       " 'data/leica_tiffs/stage9_Series006_t09_z000_ch00.tif',\n",
       " 'data/leica_tiffs/stage9_Series006_t100_z000_ch00.tif',\n",
       " 'data/leica_tiffs/stage9_Series006_t101_z000_ch00.tif',\n",
       " 'data/leica_tiffs/stage9_Series006_t102_z000_ch00.tif',\n",
       " 'data/leica_tiffs/stage9_Series006_t103_z000_ch00.tif',\n",
       " 'data/leica_tiffs/stage9_Series006_t104_z000_ch00.tif',\n",
       " 'data/leica_tiffs/stage9_Series006_t105_z000_ch00.tif',\n",
       " 'data/leica_tiffs/stage9_Series006_t106_z000_ch00.tif',\n",
       " 'data/leica_tiffs/stage9_Series006_t107_z000_ch00.tif',\n",
       " 'data/leica_tiffs/stage9_Series006_t108_z000_ch00.tif',\n",
       " 'data/leica_tiffs/stage9_Series006_t109_z000_ch00.tif',\n",
       " 'data/leica_tiffs/stage9_Series006_t10_z000_ch00.tif',\n",
       " 'data/leica_tiffs/stage9_Series006_t110_z000_ch00.tif',\n",
       " 'data/leica_tiffs/stage9_Series006_t111_z000_ch00.tif',\n",
       " 'data/leica_tiffs/stage9_Series006_t112_z000_ch00.tif',\n",
       " 'data/leica_tiffs/stage9_Series006_t114_z000_ch00.tif',\n",
       " 'data/leica_tiffs/stage9_Series006_t115_z000_ch00.tif',\n",
       " 'data/leica_tiffs/stage9_Series006_t116_z000_ch00.tif',\n",
       " 'data/leica_tiffs/stage9_Series006_t117_z000_ch00.tif',\n",
       " 'data/leica_tiffs/stage9_Series006_t118_z000_ch00.tif',\n",
       " 'data/leica_tiffs/stage9_Series006_t119_z000_ch00.tif',\n",
       " 'data/leica_tiffs/stage9_Series006_t11_z000_ch00.tif',\n",
       " 'data/leica_tiffs/stage9_Series006_t120_z000_ch00.tif',\n",
       " 'data/leica_tiffs/stage9_Series006_t121_z000_ch00.tif',\n",
       " 'data/leica_tiffs/stage9_Series006_t122_z000_ch00.tif',\n",
       " 'data/leica_tiffs/stage9_Series006_t123_z000_ch00.tif',\n",
       " 'data/leica_tiffs/stage9_Series006_t124_z000_ch00.tif',\n",
       " 'data/leica_tiffs/stage9_Series006_t12_z000_ch00.tif',\n",
       " 'data/leica_tiffs/stage9_Series006_t13_z000_ch00.tif',\n",
       " 'data/leica_tiffs/stage9_Series006_t14_z000_ch00.tif',\n",
       " 'data/leica_tiffs/stage9_Series006_t15_z000_ch00.tif',\n",
       " 'data/leica_tiffs/stage9_Series006_t16_z000_ch00.tif',\n",
       " 'data/leica_tiffs/stage9_Series006_t17_z000_ch00.tif',\n",
       " 'data/leica_tiffs/stage9_Series006_t18_z000_ch00.tif',\n",
       " 'data/leica_tiffs/stage9_Series006_t19_z000_ch00.tif',\n",
       " 'data/leica_tiffs/stage9_Series006_t20_z000_ch00.tif',\n",
       " 'data/leica_tiffs/stage9_Series006_t21_z000_ch00.tif',\n",
       " 'data/leica_tiffs/stage9_Series006_t22_z000_ch00.tif',\n",
       " 'data/leica_tiffs/stage9_Series006_t23_z000_ch00.tif',\n",
       " 'data/leica_tiffs/stage9_Series006_t24_z000_ch00.tif',\n",
       " 'data/leica_tiffs/stage9_Series006_t25_z000_ch00.tif',\n",
       " 'data/leica_tiffs/stage9_Series006_t26_z000_ch00.tif',\n",
       " 'data/leica_tiffs/stage9_Series006_t27_z000_ch00.tif',\n",
       " 'data/leica_tiffs/stage9_Series006_t28_z000_ch00.tif',\n",
       " 'data/leica_tiffs/stage9_Series006_t29_z000_ch00.tif',\n",
       " 'data/leica_tiffs/stage9_Series006_t30_z000_ch00.tif',\n",
       " 'data/leica_tiffs/stage9_Series006_t31_z000_ch00.tif',\n",
       " 'data/leica_tiffs/stage9_Series006_t32_z000_ch00.tif',\n",
       " 'data/leica_tiffs/stage9_Series006_t34_z000_ch00.tif',\n",
       " 'data/leica_tiffs/stage9_Series006_t35_z000_ch00.tif',\n",
       " 'data/leica_tiffs/stage9_Series006_t36_z000_ch00.tif',\n",
       " 'data/leica_tiffs/stage9_Series006_t37_z000_ch00.tif',\n",
       " 'data/leica_tiffs/stage9_Series006_t38_z000_ch00.tif',\n",
       " 'data/leica_tiffs/stage9_Series006_t39_z000_ch00.tif',\n",
       " 'data/leica_tiffs/stage9_Series006_t40_z000_ch00.tif',\n",
       " 'data/leica_tiffs/stage9_Series006_t41_z000_ch00.tif',\n",
       " 'data/leica_tiffs/stage9_Series006_t42_z000_ch00.tif',\n",
       " 'data/leica_tiffs/stage9_Series006_t43_z000_ch00.tif',\n",
       " 'data/leica_tiffs/stage9_Series006_t44_z000_ch00.tif',\n",
       " 'data/leica_tiffs/stage9_Series006_t45_z000_ch00.tif',\n",
       " 'data/leica_tiffs/stage9_Series006_t46_z000_ch00.tif',\n",
       " 'data/leica_tiffs/stage9_Series006_t47_z000_ch00.tif',\n",
       " 'data/leica_tiffs/stage9_Series006_t48_z000_ch00.tif',\n",
       " 'data/leica_tiffs/stage9_Series006_t49_z000_ch00.tif',\n",
       " 'data/leica_tiffs/stage9_Series006_t50_z000_ch00.tif',\n",
       " 'data/leica_tiffs/stage9_Series006_t51_z000_ch00.tif',\n",
       " 'data/leica_tiffs/stage9_Series006_t52_z000_ch00.tif',\n",
       " 'data/leica_tiffs/stage9_Series006_t53_z000_ch00.tif',\n",
       " 'data/leica_tiffs/stage9_Series006_t54_z000_ch00.tif',\n",
       " 'data/leica_tiffs/stage9_Series006_t55_z000_ch00.tif',\n",
       " 'data/leica_tiffs/stage9_Series006_t56_z000_ch00.tif',\n",
       " 'data/leica_tiffs/stage9_Series006_t57_z000_ch00.tif',\n",
       " 'data/leica_tiffs/stage9_Series006_t58_z000_ch00.tif',\n",
       " 'data/leica_tiffs/stage9_Series006_t59_z000_ch00.tif',\n",
       " 'data/leica_tiffs/stage9_Series006_t60_z000_ch00.tif',\n",
       " 'data/leica_tiffs/stage9_Series006_t61_z000_ch00.tif',\n",
       " 'data/leica_tiffs/stage9_Series006_t62_z000_ch00.tif',\n",
       " 'data/leica_tiffs/stage9_Series006_t63_z000_ch00.tif',\n",
       " 'data/leica_tiffs/stage9_Series006_t64_z000_ch00.tif',\n",
       " 'data/leica_tiffs/stage9_Series006_t65_z000_ch00.tif',\n",
       " 'data/leica_tiffs/stage9_Series006_t66_z000_ch00.tif',\n",
       " 'data/leica_tiffs/stage9_Series006_t67_z000_ch00.tif',\n",
       " 'data/leica_tiffs/stage9_Series006_t68_z000_ch00.tif',\n",
       " 'data/leica_tiffs/stage9_Series006_t69_z000_ch00.tif',\n",
       " 'data/leica_tiffs/stage9_Series006_t70_z000_ch00.tif',\n",
       " 'data/leica_tiffs/stage9_Series006_t71_z000_ch00.tif',\n",
       " 'data/leica_tiffs/stage9_Series006_t72_z000_ch00.tif',\n",
       " 'data/leica_tiffs/stage9_Series006_t73_z000_ch00.tif',\n",
       " 'data/leica_tiffs/stage9_Series006_t74_z000_ch00.tif',\n",
       " 'data/leica_tiffs/stage9_Series006_t75_z000_ch00.tif',\n",
       " 'data/leica_tiffs/stage9_Series006_t76_z000_ch00.tif',\n",
       " 'data/leica_tiffs/stage9_Series006_t77_z000_ch00.tif',\n",
       " 'data/leica_tiffs/stage9_Series006_t78_z000_ch00.tif',\n",
       " 'data/leica_tiffs/stage9_Series006_t79_z000_ch00.tif',\n",
       " 'data/leica_tiffs/stage9_Series006_t80_z000_ch00.tif',\n",
       " 'data/leica_tiffs/stage9_Series006_t81_z000_ch00.tif',\n",
       " 'data/leica_tiffs/stage9_Series006_t82_z000_ch00.tif',\n",
       " 'data/leica_tiffs/stage9_Series006_t83_z000_ch00.tif',\n",
       " 'data/leica_tiffs/stage9_Series006_t84_z000_ch00.tif',\n",
       " 'data/leica_tiffs/stage9_Series006_t85_z000_ch00.tif',\n",
       " 'data/leica_tiffs/stage9_Series006_t86_z000_ch00.tif',\n",
       " 'data/leica_tiffs/stage9_Series006_t87_z000_ch00.tif',\n",
       " 'data/leica_tiffs/stage9_Series006_t88_z000_ch00.tif',\n",
       " 'data/leica_tiffs/stage9_Series006_t89_z000_ch00.tif',\n",
       " 'data/leica_tiffs/stage9_Series006_t90_z000_ch00.tif',\n",
       " 'data/leica_tiffs/stage9_Series006_t91_z000_ch00.tif',\n",
       " 'data/leica_tiffs/stage9_Series006_t92_z000_ch00.tif',\n",
       " 'data/leica_tiffs/stage9_Series006_t93_z000_ch00.tif',\n",
       " 'data/leica_tiffs/stage9_Series006_t94_z000_ch00.tif',\n",
       " 'data/leica_tiffs/stage9_Series006_t95_z000_ch00.tif',\n",
       " 'data/leica_tiffs/stage9_Series006_t96_z000_ch00.tif',\n",
       " 'data/leica_tiffs/stage9_Series006_t97_z000_ch00.tif',\n",
       " 'data/leica_tiffs/stage9_Series006_t98_z000_ch00.tif',\n",
       " 'data/leica_tiffs/stage9_Series006_t99_z000_ch00.tif']"
      ]
     },
     "execution_count": 3,
     "metadata": {},
     "output_type": "execute_result"
    }
   ],
   "source": [
    "file_list = sorted(glob.glob('data/leica_tiffs/stage9_Series006_t*_z000_ch00.tif'))\n",
    "file_list"
   ]
  },
  {
   "cell_type": "code",
   "execution_count": 1,
   "id": "7badf307-a42b-4651-a348-a1461cfd7ca8",
   "metadata": {},
   "outputs": [],
   "source": [
    "def slice_str_hw(var):\n",
    "\n",
    "    \n",
    "    frame_number = var[var.rfind('_t')+2 : var.rfind('_z')]\n",
    "    \n",
    "    \n",
    "    return int(frame_number)"
   ]
  },
  {
   "cell_type": "code",
   "execution_count": 5,
   "id": "2152bbe7-d68b-4aa8-997f-32935b6a6fef",
   "metadata": {},
   "outputs": [
    {
     "name": "stdout",
     "output_type": "stream",
     "text": [
      "['data/leica_tiffs/stage9_Series006_t00_z000_ch00.tif', 'data/leica_tiffs/stage9_Series006_t01_z000_ch00.tif', 'data/leica_tiffs/stage9_Series006_t02_z000_ch00.tif', 'data/leica_tiffs/stage9_Series006_t03_z000_ch00.tif', 'data/leica_tiffs/stage9_Series006_t04_z000_ch00.tif', 'data/leica_tiffs/stage9_Series006_t05_z000_ch00.tif', 'data/leica_tiffs/stage9_Series006_t06_z000_ch00.tif', 'data/leica_tiffs/stage9_Series006_t07_z000_ch00.tif', 'data/leica_tiffs/stage9_Series006_t08_z000_ch00.tif', 'data/leica_tiffs/stage9_Series006_t09_z000_ch00.tif', 'data/leica_tiffs/stage9_Series006_t10_z000_ch00.tif', 'data/leica_tiffs/stage9_Series006_t11_z000_ch00.tif', 'data/leica_tiffs/stage9_Series006_t12_z000_ch00.tif', 'data/leica_tiffs/stage9_Series006_t13_z000_ch00.tif', 'data/leica_tiffs/stage9_Series006_t14_z000_ch00.tif', 'data/leica_tiffs/stage9_Series006_t15_z000_ch00.tif', 'data/leica_tiffs/stage9_Series006_t16_z000_ch00.tif', 'data/leica_tiffs/stage9_Series006_t17_z000_ch00.tif', 'data/leica_tiffs/stage9_Series006_t18_z000_ch00.tif', 'data/leica_tiffs/stage9_Series006_t19_z000_ch00.tif', 'data/leica_tiffs/stage9_Series006_t20_z000_ch00.tif', 'data/leica_tiffs/stage9_Series006_t21_z000_ch00.tif', 'data/leica_tiffs/stage9_Series006_t22_z000_ch00.tif', 'data/leica_tiffs/stage9_Series006_t23_z000_ch00.tif', 'data/leica_tiffs/stage9_Series006_t24_z000_ch00.tif', 'data/leica_tiffs/stage9_Series006_t25_z000_ch00.tif', 'data/leica_tiffs/stage9_Series006_t26_z000_ch00.tif', 'data/leica_tiffs/stage9_Series006_t27_z000_ch00.tif', 'data/leica_tiffs/stage9_Series006_t28_z000_ch00.tif', 'data/leica_tiffs/stage9_Series006_t29_z000_ch00.tif', 'data/leica_tiffs/stage9_Series006_t30_z000_ch00.tif', 'data/leica_tiffs/stage9_Series006_t31_z000_ch00.tif', 'data/leica_tiffs/stage9_Series006_t32_z000_ch00.tif', 'data/leica_tiffs/stage9_Series006_t34_z000_ch00.tif', 'data/leica_tiffs/stage9_Series006_t35_z000_ch00.tif', 'data/leica_tiffs/stage9_Series006_t36_z000_ch00.tif', 'data/leica_tiffs/stage9_Series006_t37_z000_ch00.tif', 'data/leica_tiffs/stage9_Series006_t38_z000_ch00.tif', 'data/leica_tiffs/stage9_Series006_t39_z000_ch00.tif', 'data/leica_tiffs/stage9_Series006_t40_z000_ch00.tif', 'data/leica_tiffs/stage9_Series006_t41_z000_ch00.tif', 'data/leica_tiffs/stage9_Series006_t42_z000_ch00.tif', 'data/leica_tiffs/stage9_Series006_t43_z000_ch00.tif', 'data/leica_tiffs/stage9_Series006_t44_z000_ch00.tif', 'data/leica_tiffs/stage9_Series006_t45_z000_ch00.tif', 'data/leica_tiffs/stage9_Series006_t46_z000_ch00.tif', 'data/leica_tiffs/stage9_Series006_t47_z000_ch00.tif', 'data/leica_tiffs/stage9_Series006_t48_z000_ch00.tif', 'data/leica_tiffs/stage9_Series006_t49_z000_ch00.tif', 'data/leica_tiffs/stage9_Series006_t50_z000_ch00.tif', 'data/leica_tiffs/stage9_Series006_t51_z000_ch00.tif', 'data/leica_tiffs/stage9_Series006_t52_z000_ch00.tif', 'data/leica_tiffs/stage9_Series006_t53_z000_ch00.tif', 'data/leica_tiffs/stage9_Series006_t54_z000_ch00.tif', 'data/leica_tiffs/stage9_Series006_t55_z000_ch00.tif', 'data/leica_tiffs/stage9_Series006_t56_z000_ch00.tif', 'data/leica_tiffs/stage9_Series006_t57_z000_ch00.tif', 'data/leica_tiffs/stage9_Series006_t58_z000_ch00.tif', 'data/leica_tiffs/stage9_Series006_t59_z000_ch00.tif', 'data/leica_tiffs/stage9_Series006_t60_z000_ch00.tif', 'data/leica_tiffs/stage9_Series006_t61_z000_ch00.tif', 'data/leica_tiffs/stage9_Series006_t62_z000_ch00.tif', 'data/leica_tiffs/stage9_Series006_t63_z000_ch00.tif', 'data/leica_tiffs/stage9_Series006_t64_z000_ch00.tif', 'data/leica_tiffs/stage9_Series006_t65_z000_ch00.tif', 'data/leica_tiffs/stage9_Series006_t66_z000_ch00.tif', 'data/leica_tiffs/stage9_Series006_t67_z000_ch00.tif', 'data/leica_tiffs/stage9_Series006_t68_z000_ch00.tif', 'data/leica_tiffs/stage9_Series006_t69_z000_ch00.tif', 'data/leica_tiffs/stage9_Series006_t70_z000_ch00.tif', 'data/leica_tiffs/stage9_Series006_t71_z000_ch00.tif', 'data/leica_tiffs/stage9_Series006_t72_z000_ch00.tif', 'data/leica_tiffs/stage9_Series006_t73_z000_ch00.tif', 'data/leica_tiffs/stage9_Series006_t74_z000_ch00.tif', 'data/leica_tiffs/stage9_Series006_t75_z000_ch00.tif', 'data/leica_tiffs/stage9_Series006_t76_z000_ch00.tif', 'data/leica_tiffs/stage9_Series006_t77_z000_ch00.tif', 'data/leica_tiffs/stage9_Series006_t78_z000_ch00.tif', 'data/leica_tiffs/stage9_Series006_t79_z000_ch00.tif', 'data/leica_tiffs/stage9_Series006_t80_z000_ch00.tif', 'data/leica_tiffs/stage9_Series006_t81_z000_ch00.tif', 'data/leica_tiffs/stage9_Series006_t82_z000_ch00.tif', 'data/leica_tiffs/stage9_Series006_t83_z000_ch00.tif', 'data/leica_tiffs/stage9_Series006_t84_z000_ch00.tif', 'data/leica_tiffs/stage9_Series006_t85_z000_ch00.tif', 'data/leica_tiffs/stage9_Series006_t86_z000_ch00.tif', 'data/leica_tiffs/stage9_Series006_t87_z000_ch00.tif', 'data/leica_tiffs/stage9_Series006_t88_z000_ch00.tif', 'data/leica_tiffs/stage9_Series006_t89_z000_ch00.tif', 'data/leica_tiffs/stage9_Series006_t90_z000_ch00.tif', 'data/leica_tiffs/stage9_Series006_t91_z000_ch00.tif', 'data/leica_tiffs/stage9_Series006_t92_z000_ch00.tif', 'data/leica_tiffs/stage9_Series006_t93_z000_ch00.tif', 'data/leica_tiffs/stage9_Series006_t94_z000_ch00.tif', 'data/leica_tiffs/stage9_Series006_t95_z000_ch00.tif', 'data/leica_tiffs/stage9_Series006_t96_z000_ch00.tif', 'data/leica_tiffs/stage9_Series006_t97_z000_ch00.tif', 'data/leica_tiffs/stage9_Series006_t98_z000_ch00.tif', 'data/leica_tiffs/stage9_Series006_t99_z000_ch00.tif', 'data/leica_tiffs/stage9_Series006_t100_z000_ch00.tif', 'data/leica_tiffs/stage9_Series006_t101_z000_ch00.tif', 'data/leica_tiffs/stage9_Series006_t102_z000_ch00.tif', 'data/leica_tiffs/stage9_Series006_t103_z000_ch00.tif', 'data/leica_tiffs/stage9_Series006_t104_z000_ch00.tif', 'data/leica_tiffs/stage9_Series006_t105_z000_ch00.tif', 'data/leica_tiffs/stage9_Series006_t106_z000_ch00.tif', 'data/leica_tiffs/stage9_Series006_t107_z000_ch00.tif', 'data/leica_tiffs/stage9_Series006_t108_z000_ch00.tif', 'data/leica_tiffs/stage9_Series006_t109_z000_ch00.tif', 'data/leica_tiffs/stage9_Series006_t110_z000_ch00.tif', 'data/leica_tiffs/stage9_Series006_t111_z000_ch00.tif', 'data/leica_tiffs/stage9_Series006_t112_z000_ch00.tif', 'data/leica_tiffs/stage9_Series006_t114_z000_ch00.tif', 'data/leica_tiffs/stage9_Series006_t115_z000_ch00.tif', 'data/leica_tiffs/stage9_Series006_t116_z000_ch00.tif', 'data/leica_tiffs/stage9_Series006_t117_z000_ch00.tif', 'data/leica_tiffs/stage9_Series006_t118_z000_ch00.tif', 'data/leica_tiffs/stage9_Series006_t119_z000_ch00.tif', 'data/leica_tiffs/stage9_Series006_t120_z000_ch00.tif', 'data/leica_tiffs/stage9_Series006_t121_z000_ch00.tif', 'data/leica_tiffs/stage9_Series006_t122_z000_ch00.tif', 'data/leica_tiffs/stage9_Series006_t123_z000_ch00.tif', 'data/leica_tiffs/stage9_Series006_t124_z000_ch00.tif']\n"
     ]
    }
   ],
   "source": [
    "sorted(file_list, key=slice_str_hw)\n",
    "sorted_list= sorted(file_list, key=slice_str_hw)\n",
    "print (sorted_list)"
   ]
  },
  {
   "cell_type": "code",
   "execution_count": 6,
   "id": "3c5e4fd6-f282-42ac-b790-ef18ccf30a9e",
   "metadata": {},
   "outputs": [
    {
     "name": "stdout",
     "output_type": "stream",
     "text": [
      "0\n",
      "1\n",
      "2\n",
      "3\n",
      "4\n",
      "5\n",
      "6\n",
      "7\n",
      "8\n",
      "9\n",
      "10\n",
      "11\n",
      "12\n",
      "13\n",
      "14\n",
      "15\n",
      "16\n",
      "17\n",
      "18\n",
      "19\n",
      "20\n",
      "21\n",
      "22\n",
      "23\n",
      "24\n",
      "25\n",
      "26\n",
      "27\n",
      "28\n",
      "29\n",
      "30\n",
      "31\n",
      "32\n",
      "34\n",
      "35\n",
      "36\n",
      "37\n",
      "38\n",
      "39\n",
      "40\n",
      "41\n",
      "42\n",
      "43\n",
      "44\n",
      "45\n",
      "46\n",
      "47\n",
      "48\n",
      "49\n",
      "50\n",
      "51\n",
      "52\n",
      "53\n",
      "54\n",
      "55\n",
      "56\n",
      "57\n",
      "58\n",
      "59\n",
      "60\n",
      "61\n",
      "62\n",
      "63\n",
      "64\n",
      "65\n",
      "66\n",
      "67\n",
      "68\n",
      "69\n",
      "70\n",
      "71\n",
      "72\n",
      "73\n",
      "74\n",
      "75\n",
      "76\n",
      "77\n",
      "78\n",
      "79\n",
      "80\n",
      "81\n",
      "82\n",
      "83\n",
      "84\n",
      "85\n",
      "86\n",
      "87\n",
      "88\n",
      "89\n",
      "90\n",
      "91\n",
      "92\n",
      "93\n",
      "94\n",
      "95\n",
      "96\n",
      "97\n",
      "98\n",
      "99\n",
      "100\n",
      "101\n",
      "102\n",
      "103\n",
      "104\n",
      "105\n",
      "106\n",
      "107\n",
      "108\n",
      "109\n",
      "110\n",
      "111\n",
      "112\n",
      "114\n",
      "115\n",
      "116\n",
      "117\n",
      "118\n",
      "119\n",
      "120\n",
      "121\n",
      "122\n",
      "123\n",
      "124\n"
     ]
    }
   ],
   "source": [
    "values = []\n",
    "\n",
    "for i in sorted_list:\n",
    "    t= slice_str_hw(i)\n",
    "    values.append(t)\n",
    "\n",
    "    print (t)\n",
    "    \n",
    "    "
   ]
  },
  {
   "cell_type": "code",
   "execution_count": 7,
   "id": "17a45808-8068-4188-b3e5-1ab787c64d88",
   "metadata": {},
   "outputs": [
    {
     "name": "stdout",
     "output_type": "stream",
     "text": [
      "[0, 1, 2, 3, 4, 5, 6, 7, 8, 9, 10, 11, 12, 13, 14, 15, 16, 17, 18, 19, 20, 21, 22, 23, 24, 25, 26, 27, 28, 29, 30, 31, 32, 34, 35, 36, 37, 38, 39, 40, 41, 42, 43, 44, 45, 46, 47, 48, 49, 50, 51, 52, 53, 54, 55, 56, 57, 58, 59, 60, 61, 62, 63, 64, 65, 66, 67, 68, 69, 70, 71, 72, 73, 74, 75, 76, 77, 78, 79, 80, 81, 82, 83, 84, 85, 86, 87, 88, 89, 90, 91, 92, 93, 94, 95, 96, 97, 98, 99, 100, 101, 102, 103, 104, 105, 106, 107, 108, 109, 110, 111, 112, 114, 115, 116, 117, 118, 119, 120, 121, 122, 123, 124]\n"
     ]
    }
   ],
   "source": [
    "print (values)\n",
    "    "
   ]
  },
  {
   "cell_type": "code",
   "execution_count": 13,
   "id": "bb1514d4-62fb-4c77-bd69-f0981e351143",
   "metadata": {},
   "outputs": [
    {
     "name": "stdout",
     "output_type": "stream",
     "text": [
      "missing frame\n",
      "33\n",
      "missing frame\n",
      "113\n"
     ]
    }
   ],
   "source": [
    "for i in values:\n",
    "    if i==0:\n",
    "        v=i\n",
    "        continue\n",
    "    z = i - v\n",
    "    if z>1:\n",
    "        print  (\"missing frame\") \n",
    "        print (i-1)\n",
    "\n",
    "    v= i"
   ]
  },
  {
   "cell_type": "markdown",
   "id": "541e041b-d415-4c6c-9c18-7364b17665ac",
   "metadata": {},
   "source": [
    "## 1.3 b"
   ]
  },
  {
   "cell_type": "code",
   "execution_count": null,
   "id": "9f2bf464-4771-44ec-9913-8633d760dad8",
   "metadata": {},
   "outputs": [],
   "source": []
  },
  {
   "cell_type": "code",
   "execution_count": 2,
   "id": "563e2ce6-c99a-4af7-99de-d538dbe4a627",
   "metadata": {},
   "outputs": [
    {
     "ename": "FileNotFoundError",
     "evalue": "[Errno 2] No such file or directory: 'data/leica_tiffs/stage9.txt'",
     "output_type": "error",
     "traceback": [
      "\u001b[0;31m---------------------------------------------------------------------------\u001b[0m",
      "\u001b[0;31mFileNotFoundError\u001b[0m                         Traceback (most recent call last)",
      "\u001b[0;32m/var/folders/kq/ww13gjs57pbgjk4pv8xn50380000gn/T/ipykernel_32902/2016072108.py\u001b[0m in \u001b[0;36m<module>\u001b[0;34m\u001b[0m\n\u001b[0;32m----> 1\u001b[0;31m \u001b[0;32mwith\u001b[0m \u001b[0mopen\u001b[0m \u001b[0;34m(\u001b[0m\u001b[0;34m'data/leica_tiffs/stage9.txt'\u001b[0m\u001b[0;34m,\u001b[0m\u001b[0mmode\u001b[0m\u001b[0;34m=\u001b[0m\u001b[0;34m'r'\u001b[0m\u001b[0;34m,\u001b[0m \u001b[0mencoding\u001b[0m\u001b[0;34m=\u001b[0m\u001b[0;34m'cp1252'\u001b[0m\u001b[0;34m)\u001b[0m \u001b[0;32mas\u001b[0m \u001b[0mf\u001b[0m\u001b[0;34m:\u001b[0m\u001b[0;34m\u001b[0m\u001b[0;34m\u001b[0m\u001b[0m\n\u001b[0m\u001b[1;32m      2\u001b[0m     \u001b[0mstage9\u001b[0m\u001b[0;34m=\u001b[0m \u001b[0mf\u001b[0m\u001b[0;34m.\u001b[0m\u001b[0mreadlines\u001b[0m\u001b[0;34m(\u001b[0m\u001b[0;34m)\u001b[0m\u001b[0;34m\u001b[0m\u001b[0;34m\u001b[0m\u001b[0m\n",
      "\u001b[0;31mFileNotFoundError\u001b[0m: [Errno 2] No such file or directory: 'data/leica_tiffs/stage9.txt'"
     ]
    }
   ],
   "source": [
    "with open ('data/leica_tiffs/stage9.txt',mode='r', encoding='cp1252') as f:\n",
    "    stage9= f.readlines()\n"
   ]
  },
  {
   "cell_type": "code",
   "execution_count": null,
   "id": "939f9402-076d-4766-b875-e91adf7266fd",
   "metadata": {},
   "outputs": [],
   "source": []
  },
  {
   "cell_type": "code",
   "execution_count": null,
   "id": "5a69a878-ce1e-42e0-8783-d786e4b0fdf4",
   "metadata": {},
   "outputs": [],
   "source": [
    "def slice_str_hw(var):\n",
    "    \n",
    "    frame_number = var[var.rfind(',') : var.rfind(',')]\n",
    "    \n",
    "    \n",
    "    return int(frame_number)"
   ]
  },
  {
   "cell_type": "code",
   "execution_count": null,
   "id": "93e1c276-405e-4f4c-9ed4-0de8277988c6",
   "metadata": {},
   "outputs": [],
   "source": [
    "alues = []\n",
    "\n",
    "for i in stage9:\n",
    "    t= slice_str_hw(i)\n",
    "    values.append(t)\n",
    "\n",
    "    print (t)"
   ]
  }
 ],
 "metadata": {
  "kernelspec": {
   "display_name": "Python 3 (ipykernel)",
   "language": "python",
   "name": "python3"
  },
  "language_info": {
   "codemirror_mode": {
    "name": "ipython",
    "version": 3
   },
   "file_extension": ".py",
   "mimetype": "text/x-python",
   "name": "python",
   "nbconvert_exporter": "python",
   "pygments_lexer": "ipython3",
   "version": "3.8.11"
  }
 },
 "nbformat": 4,
 "nbformat_minor": 5
}
